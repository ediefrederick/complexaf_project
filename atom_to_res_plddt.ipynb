{
 "cells": [
  {
   "cell_type": "code",
   "execution_count": 1,
   "id": "194f0e42-65f3-4be5-ab2a-e0eb8660caa6",
   "metadata": {},
   "outputs": [
    {
     "name": "stdout",
     "output_type": "stream",
     "text": [
      "Intel MKL WARNING: Support of Intel(R) Streaming SIMD Extensions 4.2 (Intel(R) SSE4.2) enabled only processors has been deprecated. Intel oneAPI Math Kernel Library 2025.0 will require Intel(R) Advanced Vector Extensions (Intel(R) AVX) instructions.\n",
      "Intel MKL WARNING: Support of Intel(R) Streaming SIMD Extensions 4.2 (Intel(R) SSE4.2) enabled only processors has been deprecated. Intel oneAPI Math Kernel Library 2025.0 will require Intel(R) Advanced Vector Extensions (Intel(R) AVX) instructions.\n"
     ]
    }
   ],
   "source": [
    "import json\n",
    "import os\n",
    "import pandas as pd\n",
    "from Bio import PDB\n",
    "import matplotlib.pyplot as plt"
   ]
  },
  {
   "cell_type": "code",
   "execution_count": 1,
   "id": "e3ba0449-6a3e-4530-ac49-e9d7461772f4",
   "metadata": {},
   "outputs": [],
   "source": [
    "def calculate_residue_plddt(directory, base_name):\n",
    "    # Loop through the indices for the models\n",
    "    all_residue_plddt = []\n",
    "    for i in range(5):  # Models 0 to 4\n",
    "        json_file = f\"fold_{base_name}_full_data_{i}.json\"\n",
    "        cif_file = f\"fold_{base_name}_model_{i}.cif\"\n",
    "\n",
    "        json_path = os.path.join(directory, json_file)\n",
    "        cif_path = os.path.join(directory, cif_file)\n",
    "\n",
    "        # Check if both files exist\n",
    "        if os.path.exists(json_path) and os.path.exists(cif_path):\n",
    "            # Load the JSON data\n",
    "            with open(json_path) as json_data:\n",
    "                plddts = json.load(json_data)['atom_plddts']\n",
    "\n",
    "            # Parse the CIF file\n",
    "            structure = PDB.MMCIFParser(QUIET=True).get_structure('model', cif_path)\n",
    "            \n",
    "            # Extract atom-to-residue information \n",
    "            atom_to_residue = [(chain.id, residue.resname, residue.id[1]) for model in structure for chain in model for residue in chain for atom in residue]\n",
    "\n",
    "            # Create dataframe\n",
    "            df = pd.DataFrame({\n",
    "                'chain_id': [item[0] for item in atom_to_residue],\n",
    "                'res_name': [item[1] for item in atom_to_residue],\n",
    "                'res_id': [item[2] for item in atom_to_residue],\n",
    "                'plddts': plddts\n",
    "            })\n",
    "\n",
    "            # Calculate the mean pLDDT for each residue\n",
    "            residue_plddt = df.groupby(['chain_id', 'res_id']).agg(\n",
    "                res_name=('res_name', 'first'),\n",
    "                mean_plddt=('plddts', 'mean'),\n",
    "                std_plddt=('plddts', 'std'),\n",
    "            ).reset_index()\n",
    "\n",
    "            # Calculate the coefficient of variation (CV)\n",
    "            residue_plddt['cv_plddt'] = residue_plddt['std_plddt'] / residue_plddt['mean_plddt']\n",
    "\n",
    "            # Add a column for the source file\n",
    "            residue_plddt['model'] = f\"model_{i}\"\n",
    "\n",
    "            # Append to the list\n",
    "            all_residue_plddt.append(residue_plddt)\n",
    "\n",
    "    # Concatenate dataframes\n",
    "    all_residue_plddt_df = pd.concat(all_residue_plddt, ignore_index=True)\n",
    "\n",
    "    # Plot CV pLDDT as a boxplot for all models\n",
    "    plt.figure(figsize=(15, 6))\n",
    "    all_residue_plddt_df.boxplot(column='cv_plddt', by='model', grid=False)\n",
    "    plt.title(f\"CVs of pLDDT for {base_name} Models\")\n",
    "    plt.suptitle('')  # Remove the default title to avoid duplication\n",
    "    plt.xlabel('Model')\n",
    "    plt.ylabel('CV of per-residue pLDDT')\n",
    "    plt.xticks(rotation=45)\n",
    "    plt.tight_layout()\n",
    "    plt.show()\n",
    "\n",
    "    # Plot mean pLDDT vs residue position with CV error bars for all models\n",
    "    plt.figure(figsize=(15, 6))\n",
    "    for model in range(5):\n",
    "        model_data = all_residue_plddt_df[all_residue_plddt_df['model'] == f\"model_{model}\"]\n",
    "        for chain in model_data['chain_id'].unique():\n",
    "            chain_data = model_data[model_data['chain_id'] == chain]\n",
    "            plt.errorbar(chain_data['res_id'], chain_data['mean_plddt'], yerr=chain_data['std_plddt'], label=f\"Model {model} Chain {chain}\")\n",
    "\n",
    "    plt.title(f\"pLDDT vs Residue Position for {base_name} Models\")\n",
    "    plt.xlabel('Residue Position')\n",
    "    plt.ylabel('Mean pLDDT')\n",
    "    plt.legend()\n",
    "    plt.grid(True)\n",
    "    plt.tight_layout()\n",
    "    plt.show()\n",
    "\n",
    "    return                        "
   ]
  }
 ],
 "metadata": {
  "kernelspec": {
   "display_name": "Python 3 (ipykernel)",
   "language": "python",
   "name": "python3"
  },
  "language_info": {
   "codemirror_mode": {
    "name": "ipython",
    "version": 3
   },
   "file_extension": ".py",
   "mimetype": "text/x-python",
   "name": "python",
   "nbconvert_exporter": "python",
   "pygments_lexer": "ipython3",
   "version": "3.12.3"
  }
 },
 "nbformat": 4,
 "nbformat_minor": 5
}
