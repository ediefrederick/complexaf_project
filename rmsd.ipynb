{
 "cells": [
  {
   "cell_type": "markdown",
   "metadata": {},
   "source": []
  },
  {
   "cell_type": "code",
   "execution_count": 136,
   "metadata": {},
   "outputs": [],
   "source": [
    "import subprocess\n",
    "import matplotlib.pyplot as plt\n",
    "from Bio import PDB\n",
    "import re\n",
    "import os"
   ]
  },
  {
   "cell_type": "code",
   "execution_count": 125,
   "metadata": {},
   "outputs": [],
   "source": [
    "# def run_chimerax_matchmaker(reference_pdb, target_cif, output_file):\n",
    "#     # ChimeraX command script\n",
    "#     chimerax_script = f\"\"\"\n",
    "#     open {reference_pdb}\n",
    "#     open {target_cif}\n",
    "#     matchmaker #{1} to #{2}\n",
    "#     exit\n",
    "#     \"\"\"\n",
    "\n",
    "#     # Write the script to a temporary file with a .cxc extension\n",
    "#     script_filename = 'chimerax_script.cxc'\n",
    "#     with open(script_filename, 'w') as file:\n",
    "#         file.write(chimerax_script)\n",
    "    \n",
    "#     # Path to ChimeraX executable\n",
    "#     chimerax_executable = '/Applications/ChimeraX-1.5.app/Contents/MacOS/ChimeraX'\n",
    "\n",
    "#     # # Run ChimeraX with the script\n",
    "#     # subprocess.run([chimerax_executable, '--nogui', script_filename])\n",
    "\n",
    "#     # Run ChimeraX with the script and capture output\n",
    "#     with open(output_file, 'w') as file:\n",
    "#         subprocess.run([chimerax_executable, '--nogui', script_filename], stdout=file, stderr=subprocess.STDOUT)"
   ]
  },
  {
   "cell_type": "code",
   "execution_count": 126,
   "metadata": {},
   "outputs": [],
   "source": [
    "# reference_pdb = \"af3_predictions/fold_t1124/7ux8.pdb\" \n",
    "# target_cif = \"af3_predictions/fold_t1124/fold_t1124_model_0.cif\"\n",
    "# output_file = \"rmsd_values.txt\"\n",
    "# run_chimerax_matchmaker(reference_pdb, target_cif, output_file)"
   ]
  },
  {
   "cell_type": "code",
   "execution_count": 130,
   "metadata": {},
   "outputs": [
    {
     "name": "stdout",
     "output_type": "stream",
     "text": [
      "1543\n"
     ]
    }
   ],
   "source": [
    "# def count_residues(pdb_file):\n",
    "#     # Initialize the PDB parser\n",
    "#     pdb_parser = PDB.PDBParser(QUIET=True)\n",
    "    \n",
    "#     # Load the structure from the PDB file\n",
    "#     structure = pdb_parser.get_structure('structure_id', pdb_file)\n",
    "    \n",
    "#     # Initialize residue count\n",
    "#     residue_count = 0\n",
    "    \n",
    "#     # Iterate over models, chains, and residues to count them\n",
    "#     for model in structure:\n",
    "#         for chain in model:\n",
    "#             residue_count += len(list(chain.get_residues()))\n",
    "    \n",
    "#     return residue_count\n",
    "# print(count_residues(\"af3_predictions/fold_t1124/7ux8.pdb\" ))"
   ]
  },
  {
   "cell_type": "code",
   "execution_count": 137,
   "metadata": {},
   "outputs": [],
   "source": [
    "def extract_rmsd_value_once(output_file):\n",
    "    rmsd_values = []\n",
    "    found_value = False\n",
    "\n",
    "    # Regular expression to match the first RMSD value\n",
    "    rmsd_pattern = re.compile(r'RMSD between \\d+ pruned atom pairs is ([\\d.]+) angstroms')\n",
    "\n",
    "    with open(output_file, 'r') as file:\n",
    "        for line in file:\n",
    "            # Search for the RMSD pattern\n",
    "            match = rmsd_pattern.search(line)\n",
    "            if match and not found_value:\n",
    "                # Extract and convert the RMSD value\n",
    "                rmsd_value = float(match.group(1))\n",
    "                rmsd_values.append(rmsd_value)\n",
    "                found_value = True  # Ensure we only add the value once\n",
    "\n",
    "    return rmsd_values"
   ]
  },
  {
   "cell_type": "code",
   "execution_count": 138,
   "metadata": {},
   "outputs": [],
   "source": [
    "def run_chimerax_matchmaker_and_rmsd(reference_pdb, target_cif, window_size=10, step_size=3):\n",
    "    nres = 739\n",
    "    rmsd_list = []\n",
    "\n",
    "     # Path to ChimeraX executable\n",
    "    chimerax_executable = '/Applications/ChimeraX-1.5.app/Contents/MacOS/ChimeraX'\n",
    "\n",
    "    # Iterate over residues with the given window size and step size\n",
    "    for start in range(1, nres - window_size + 2, step_size):\n",
    "        end = start + window_size - 1\n",
    "\n",
    "        # Create a unique output filename for each window\n",
    "        output_file = f'rmsd_values_{start}_{end}.txt'\n",
    "\n",
    "        # Create the ChimeraX script for the current window\n",
    "        chimerax_script = f\"\"\"\n",
    "        open {reference_pdb}\n",
    "        open {target_cif}\n",
    "        matchmaker #{1}:{start}-{end} to #{2}:{start}-{end}\n",
    "        exit\n",
    "        \"\"\"\n",
    "\n",
    "        # Write the script to a file\n",
    "        script_filename = 'chimerax_script.cxc'\n",
    "        with open(script_filename, 'w') as file:\n",
    "            file.write(chimerax_script)\n",
    "\n",
    "        # Run ChimeraX with the script and capture output\n",
    "        with open(output_file, 'w') as file:\n",
    "            subprocess.run([chimerax_executable, '--nogui', script_filename], stdout=file, stderr=subprocess.STDOUT)\n",
    "        \n",
    "        # Extract RMSD value from the generated output file\n",
    "        rmsd_values = extract_rmsd_value_once(output_file)\n",
    "        if rmsd_values:\n",
    "            rmsd_list.extend(rmsd_values)\n",
    "        \n",
    "        # remove the output file to avoid clutter\n",
    "        os.remove(output_file)\n",
    "\n",
    "    return rmsd_list\n"
   ]
  },
  {
   "cell_type": "code",
   "execution_count": 139,
   "metadata": {},
   "outputs": [
    {
     "name": "stdout",
     "output_type": "stream",
     "text": [
      "[0.847, 0.947, 0.373, 0.511, 0.586, 0.565, 0.146, 0.091, 0.068, 0.062, 0.152, 0.104, 0.14, 0.113, 0.104, 0.158, 0.17, 0.246, 0.327, 0.326, 0.146, 0.121, 0.098, 0.092, 0.108, 0.195, 0.13, 0.104, 0.68, 0.958, 0.868, 0.989, 1.202, 0.279, 0.15, 0.173, 0.225, 0.19, 0.108, 0.103, 0.153, 0.269, 0.289, 0.318, 0.149, 0.161, 0.99, 0.331, 0.93, 1.245, 1.13, 1.03, 0.73, 1.16, 0.887, 0.252, 0.28, 0.134, 0.103, 0.082, 0.178, 0.507, 0.603, 0.405, 0.191, 0.099, 0.158, 0.121, 0.115, 0.218, 0.16, 0.116, 0.183, 0.153, 0.136, 0.152, 0.106, 0.084, 0.079, 0.124, 0.187, 0.194, 0.437, 0.836, 0.619, 0.484, 0.296, 0.158, 0.169, 0.168, 0.197, 0.171, 0.113, 0.115, 0.175, 0.192, 0.205, 0.139, 0.524, 0.849, 0.671, 0.572, 0.174, 0.117, 0.176, 0.176, 0.297, 0.342, 0.516, 0.514, 0.11, 0.093, 0.101, 0.125, 0.161, 0.131, 0.187, 0.162, 0.228, 0.214, 0.829, 1.013, 1.249, 0.747, 0.757, 1.468]\n"
     ]
    }
   ],
   "source": [
    "# Example usage\n",
    "reference_pdb = \"af3_predictions/fold_t1124/7ux8.pdb\"  \n",
    "target_cif = \"af3_predictions/fold_t1124/fold_t1124_model_0.cif\"\n",
    "rmsd_results = run_chimerax_matchmaker_and_rmsd(reference_pdb, target_cif)\n",
    "print (rmsd_results)"
   ]
  },
  {
   "cell_type": "code",
   "execution_count": 140,
   "metadata": {},
   "outputs": [
    {
     "name": "stdout",
     "output_type": "stream",
     "text": [
      "126\n"
     ]
    }
   ],
   "source": [
    "print(len(rmsd_results))"
   ]
  },
  {
   "cell_type": "code",
   "execution_count": 141,
   "metadata": {},
   "outputs": [],
   "source": [
    "# Plot the RMSD values\n",
    "\n",
    "# plt.plot(rmsd_results)\n",
    "# plt.xlabel('Window Start Position')\n",
    "# plt.ylabel('RMSD')\n",
    "# plt.title(f'RMSD over 10-residue windows with 3-residue steps')\n",
    "# plt.show()"
   ]
  },
  {
   "cell_type": "code",
   "execution_count": null,
   "metadata": {},
   "outputs": [],
   "source": []
  }
 ],
 "metadata": {
  "kernelspec": {
   "display_name": "Python 3",
   "language": "python",
   "name": "python3"
  },
  "language_info": {
   "codemirror_mode": {
    "name": "ipython",
    "version": 3
   },
   "file_extension": ".py",
   "mimetype": "text/x-python",
   "name": "python",
   "nbconvert_exporter": "python",
   "pygments_lexer": "ipython3",
   "version": "3.10.6"
  },
  "orig_nbformat": 4,
  "vscode": {
   "interpreter": {
    "hash": "aee8b7b246df8f9039afb4144a1f6fd8d2ca17a180786b69acc140d282b71a49"
   }
  }
 },
 "nbformat": 4,
 "nbformat_minor": 2
}
