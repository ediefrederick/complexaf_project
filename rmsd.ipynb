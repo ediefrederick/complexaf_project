{
 "cells": [
  {
   "cell_type": "code",
   "execution_count": 83,
   "id": "49a28e9b-888d-4e45-876b-2c82b75a23d1",
   "metadata": {},
   "outputs": [],
   "source": [
    "from Bio.PDB.Polypeptide import three_to_one\n",
    "from Bio.SVDSuperimposer import SVDSuperimposer\n",
    "from Bio.PDB.Structure import Structure\n",
    "from Bio.PDB import PDBParser, MMCIFParser\n",
    "from Bio import pairwise2\n",
    "from Bio.pairwise2 import format_alignment\n",
    "import numpy as np\n",
    "\n",
    "\n",
    "AA = [\"ALA\", \"CYS\", \"ASP\", \"GLU\", \"PHE\", \"GLY\", \"HIS\", \"ILE\", \"LYS\", \"LEU\", \"MET\", \"ASN\", \"PRO\", \"GLN\",\n",
    "      \"ARG\", \"SER\", \"THR\", \"VAL\", \"TRP\", \"TYR\"]\n",
    "\n",
    "parser = PDBParser(QUIET=True)\n",
    "mmcif_parser = MMCIFParser(QUIET=True)\n",
    "    \n",
    "native = parser.get_structure(\"native\", \"af3_predictions/fold_t1124_new/7ux8.pdb\")\n",
    "model = mmcif_parser.get_structure(\"model\", \"af3_predictions/fold_t1124_new/fold_t1124_new_model_0.cif\")\n",
    "\n",
    "# Type functions because it's helpful.\n",
    "def align(native: Structure, model: Structure, atom_types = [\"CA\", \"N\", \"C\", \"O\"]) -> SVDSuperimposer:\n",
    "    \"\"\"\n",
    "    Aligns a model structure onto a native structure\n",
    "    Using the atom types listed in `atom_types`.\n",
    "    \"\"\"\n",
    "    \n",
    "    # A long one-liner that gets the one-letter amino acid representation for each residue in a structure,\n",
    "    # then joins those letters into one long string.\n",
    "    native_seq = \"\".join([ three_to_one(r.resname) for r in native[0].get_residues() if r.resname in AA ])\n",
    "    model_seq = \"\".join([ three_to_one(r.resname) for r in model[0].get_residues() if r.resname in AA ])\n",
    "\n",
    "    #print(len(native_seq))\n",
    "    #print(len(model_seq))\n",
    "\n",
    "    alignments = pairwise2.align.globalxx(native_seq, model_seq)\n",
    "\n",
    "    best_alignment = alignments[0]\n",
    "    #print(best_alignment)\n",
    "\n",
    "    aligned_native = best_alignment[0]\n",
    "    aligned_model = best_alignment[1]\n",
    "    start, end = best_alignment[3:7]\n",
    "\n",
    "    # Determine which sequence to trim\n",
    "    if len(native_seq) > len(model_seq):\n",
    "        # Trim seq1 to match the length of seq2 based on alignment\n",
    "        trimmed_native = native_seq[start:end]\n",
    "        trimmed_model = model_seq\n",
    "    else:\n",
    "        # Trim seq2 to match the length of seq1 based on alignment\n",
    "        trimmed_native = native_seq\n",
    "        trimmed_model = model_seq[start:end]\n",
    "    \n",
    "    \n",
    "    # # Get the coordinates of the Atom object if the Atom is from an amino acid residue,\n",
    "    # # and the atom type is what's specified in atom_types.\n",
    "    # # Traditionally RMSD is calculated for either:\n",
    "    # # Only the alpha-carbon atoms (CA), or\n",
    "    # # The \"protein backbone\" atoms (CA, N, C, O), or\n",
    "    # # All atoms\n",
    "    # native_coords = [ a.coord for a in native[0].get_atoms() if a.parent.resname in AA and a.name in atom_types ]\n",
    "    # model_coords = [ a.coord for a in model[0].get_atoms() if a.parent.resname in AA and a.name in atom_types ]\n",
    "    \n",
    "    # si = SVDSuperimposer()\n",
    "    # si.set(np.array(native_coords), np.array(model_coords))\n",
    "    # si.run() # Run the SVD alignment\n",
    "    \n",
    "    # return si"
   ]
  },
  {
   "cell_type": "code",
   "execution_count": 84,
   "id": "354f9d50-6144-4855-9ccb-140294206671",
   "metadata": {},
   "outputs": [
    {
     "ename": "AttributeError",
     "evalue": "'NoneType' object has no attribute 'get_init_rms'",
     "output_type": "error",
     "traceback": [
      "\u001b[0;31m---------------------------------------------------------------------------\u001b[0m",
      "\u001b[0;31mAttributeError\u001b[0m                            Traceback (most recent call last)",
      "Cell \u001b[0;32mIn[84], line 2\u001b[0m\n\u001b[1;32m      1\u001b[0m si \u001b[38;5;241m=\u001b[39m align(native, model)\n\u001b[0;32m----> 2\u001b[0m \u001b[38;5;28mprint\u001b[39m(\u001b[38;5;124m\"\u001b[39m\u001b[38;5;124mInitial RMSD: \u001b[39m\u001b[38;5;132;01m{:.2f}\u001b[39;00m\u001b[38;5;124m angstroms; full-backbone RMSD after alignment: \u001b[39m\u001b[38;5;132;01m{:.2f}\u001b[39;00m\u001b[38;5;124m angstroms\u001b[39m\u001b[38;5;124m\"\u001b[39m\u001b[38;5;241m.\u001b[39mformat(si\u001b[38;5;241m.\u001b[39mget_init_rms(), si\u001b[38;5;241m.\u001b[39mget_rms()))\n",
      "\u001b[0;31mAttributeError\u001b[0m: 'NoneType' object has no attribute 'get_init_rms'"
     ]
    }
   ],
   "source": [
    "#si = align(native, model)\n",
    "#print(\"Initial RMSD: {:.2f} angstroms; full-backbone RMSD after alignment: {:.2f} angstroms\".format(si.get_init_rms(), si.get_rms()))"
   ]
  },
  {
   "cell_type": "code",
   "execution_count": null,
   "id": "cfc76e7f-2f30-49db-858c-be7c2dd15775",
   "metadata": {},
   "outputs": [],
   "source": []
  }
 ],
 "metadata": {
  "kernelspec": {
   "display_name": "Python 3 (ipykernel)",
   "language": "python",
   "name": "python3"
  },
  "language_info": {
   "codemirror_mode": {
    "name": "ipython",
    "version": 3
   },
   "file_extension": ".py",
   "mimetype": "text/x-python",
   "name": "python",
   "nbconvert_exporter": "python",
   "pygments_lexer": "ipython3",
   "version": "3.12.3"
  }
 },
 "nbformat": 4,
 "nbformat_minor": 5
}
