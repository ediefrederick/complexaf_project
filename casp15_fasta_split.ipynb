{
 "cells": [
  {
   "cell_type": "code",
   "execution_count": 27,
   "id": "9d6ba266-9752-4766-8279-e1f461b168df",
   "metadata": {},
   "outputs": [],
   "source": [
    "from collections import defaultdict\n",
    "from Bio import SeqIO"
   ]
  },
  {
   "cell_type": "code",
   "execution_count": 28,
   "id": "796f7cac-4d02-422e-b546-1c48cfc1746f",
   "metadata": {},
   "outputs": [],
   "source": [
    "def spilt_fasta(fasta_path, output_dir):\n",
    "    # Parse the input FASTA file\n",
    "    records = list(SeqIO.parse(fasta_path, \"fasta\"))\n",
    "\n",
    "    # Group indices of proteins with subunits\n",
    "    index_dict = defaultdict(list)\n",
    "    for i, record in enumerate(records):\n",
    "        index_dict[record.id[:5]].append(i)\n",
    "\n",
    "    # Write separate FASTA files for each group of subunits\n",
    "    for protein_id, indices in index_dict.items():\n",
    "        with open(f\"{output_dir}/{protein_id}.fasta\", \"a\") as f:\n",
    "            for index in indices:\n",
    "                SeqIO.write(records[index], f, \"fasta\")\n",
    "\n",
    "    return"
   ]
  },
  {
   "cell_type": "code",
   "execution_count": 30,
   "id": "568c9ef5-fc22-4730-a9ea-a5d407f00f3b",
   "metadata": {},
   "outputs": [],
   "source": [
    "fasta_path = \"casp15.seq_multimers.fasta\"\n",
    "output_dir = \"multimer_fasta\"\n",
    "spilt_fasta(fasta_path, output_dir)"
   ]
  }
 ],
 "metadata": {
  "kernelspec": {
   "display_name": "Python 3 (ipykernel)",
   "language": "python",
   "name": "python3"
  },
  "language_info": {
   "codemirror_mode": {
    "name": "ipython",
    "version": 3
   },
   "file_extension": ".py",
   "mimetype": "text/x-python",
   "name": "python",
   "nbconvert_exporter": "python",
   "pygments_lexer": "ipython3",
   "version": "3.12.3"
  }
 },
 "nbformat": 4,
 "nbformat_minor": 5
}
