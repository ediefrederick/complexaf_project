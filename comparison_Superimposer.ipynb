{
 "cells": [
  {
   "cell_type": "code",
   "execution_count": 1,
   "id": "674ea151-a5fc-4fc4-a054-d651c502b736",
   "metadata": {},
   "outputs": [
    {
     "name": "stdout",
     "output_type": "stream",
     "text": [
      "Intel MKL WARNING: Support of Intel(R) Streaming SIMD Extensions 4.2 (Intel(R) SSE4.2) enabled only processors has been deprecated. Intel oneAPI Math Kernel Library 2025.0 will require Intel(R) Advanced Vector Extensions (Intel(R) AVX) instructions.\n",
      "Intel MKL WARNING: Support of Intel(R) Streaming SIMD Extensions 4.2 (Intel(R) SSE4.2) enabled only processors has been deprecated. Intel oneAPI Math Kernel Library 2025.0 will require Intel(R) Advanced Vector Extensions (Intel(R) AVX) instructions.\n"
     ]
    }
   ],
   "source": [
    "import matplotlib.pyplot as plt\n",
    "from mpl_toolkits.mplot3d import Axes3D\n",
    "from Bio.PDB import PDBParser, MMCIFParser, Superimposer\n",
    "from Bio.SVDSuperimposer import SVDSuperimposer\n",
    "from Bio.SeqUtils import seq1\n",
    "from Bio import pairwise2\n",
    "import numpy as np"
   ]
  },
  {
   "cell_type": "code",
   "execution_count": 3,
   "id": "fbb70aa5-f217-4352-80a3-c227c8a1e29d",
   "metadata": {},
   "outputs": [],
   "source": [
    "def superimpose_and_plot(cif_file, pdb_file):\n",
    "\n",
    "    def get_sequence(structure):\n",
    "        return \"\".join(seq1(residue.get_resname()) for model in structure for chain in model for residue in chain if residue.id[0] == ' ')\n",
    "    \n",
    "    # Extract sequence from each file\n",
    "    native = PDBParser(QUIET=True).get_structure(\"native\", pdb_file)\n",
    "    model = MMCIFParser(QUIET=True).get_structure(\"model\", cif_file)\n",
    "    \n",
    "    native_seq = get_sequence(native)\n",
    "    model_seq = get_sequence(model)\n",
    "\n",
    "    # Perform global alignment \n",
    "    best_alignment = pairwise2.align.globalxx(native_seq, model_seq)[0]\n",
    "\n",
    "    aligned_native = best_alignment[0]\n",
    "    aligned_model = best_alignment[1]\n",
    "\n",
    "    # Trim sequences based on alignment\n",
    "    # Extract CA atoms for superimposition\n",
    "    native_atoms = []\n",
    "    model_atoms = []\n",
    "\n",
    "    native_residues = [residue for model in native for chain in model for residue in chain if residue.id[0] == ' ']\n",
    "    model_residues = [residue for model in model for chain in model for residue in chain if residue.id[0] == ' ']\n",
    "\n",
    "    native_index, model_index = 0, 0\n",
    "    for res_native, res_model in zip(aligned_native, aligned_model):\n",
    "        if res_native != '-' and res_model != '-':\n",
    "            native_atoms.append(native_residues[native_index]['CA'])\n",
    "            model_atoms.append(model_residues[model_index]['CA'])\n",
    "        if res_native != '-':\n",
    "            native_index += 1\n",
    "        if res_model != '-':\n",
    "            model_index += 1\n",
    "        \n",
    "    # Convert lists to numpy arrays for SVD superimposition\n",
    "    native_atoms = np.array(native_atoms)\n",
    "    model_atoms = np.array(model_atoms)\n",
    "\n",
    "    # Superimpose two structures using SVD\n",
    "    super_imposer = SVDSuperimposer()\n",
    "    super_imposer.set(native_atoms, model_atoms)\n",
    "    super_imposer.run()\n",
    "\n",
    "    # Extract RMSD\n",
    "    rmsd = super_imposer.get_rms()\n",
    "    print(f\"RMSD: {rmsd:.3f} Å\")\n",
    "\n",
    "    return"
   ]
  },
  {
   "cell_type": "code",
   "execution_count": 4,
   "id": "d10a5790-39bf-4790-9b84-c70d681e1f1a",
   "metadata": {},
   "outputs": [
    {
     "ename": "FileNotFoundError",
     "evalue": "[Errno 2] No such file or directory: 'af3_predictions/fold_t1124_new/7ux8.pdb'",
     "output_type": "error",
     "traceback": [
      "\u001b[0;31m---------------------------------------------------------------------------\u001b[0m",
      "\u001b[0;31mFileNotFoundError\u001b[0m                         Traceback (most recent call last)",
      "Cell \u001b[0;32mIn[4], line 3\u001b[0m\n\u001b[1;32m      1\u001b[0m cif_file \u001b[38;5;241m=\u001b[39m \u001b[38;5;124m\"\u001b[39m\u001b[38;5;124maf3_predictions/fold_t1124_new/fold_t1124_new_model_0.cif\u001b[39m\u001b[38;5;124m\"\u001b[39m\n\u001b[1;32m      2\u001b[0m pdb_file \u001b[38;5;241m=\u001b[39m \u001b[38;5;124m\"\u001b[39m\u001b[38;5;124maf3_predictions/fold_t1124_new/7ux8.pdb\u001b[39m\u001b[38;5;124m\"\u001b[39m\n\u001b[0;32m----> 3\u001b[0m superimpose_and_plot(cif_file, pdb_file)\n",
      "Cell \u001b[0;32mIn[3], line 7\u001b[0m, in \u001b[0;36msuperimpose_and_plot\u001b[0;34m(cif_file, pdb_file)\u001b[0m\n\u001b[1;32m      4\u001b[0m     \u001b[38;5;28;01mreturn\u001b[39;00m \u001b[38;5;124m\"\u001b[39m\u001b[38;5;124m\"\u001b[39m\u001b[38;5;241m.\u001b[39mjoin(seq1(residue\u001b[38;5;241m.\u001b[39mget_resname()) \u001b[38;5;28;01mfor\u001b[39;00m model \u001b[38;5;129;01min\u001b[39;00m structure \u001b[38;5;28;01mfor\u001b[39;00m chain \u001b[38;5;129;01min\u001b[39;00m model \u001b[38;5;28;01mfor\u001b[39;00m residue \u001b[38;5;129;01min\u001b[39;00m chain \u001b[38;5;28;01mif\u001b[39;00m residue\u001b[38;5;241m.\u001b[39mid[\u001b[38;5;241m0\u001b[39m] \u001b[38;5;241m==\u001b[39m \u001b[38;5;124m'\u001b[39m\u001b[38;5;124m \u001b[39m\u001b[38;5;124m'\u001b[39m)\n\u001b[1;32m      6\u001b[0m \u001b[38;5;66;03m# Extract sequence from each file\u001b[39;00m\n\u001b[0;32m----> 7\u001b[0m native \u001b[38;5;241m=\u001b[39m PDBParser(QUIET\u001b[38;5;241m=\u001b[39m\u001b[38;5;28;01mTrue\u001b[39;00m)\u001b[38;5;241m.\u001b[39mget_structure(\u001b[38;5;124m\"\u001b[39m\u001b[38;5;124mnative\u001b[39m\u001b[38;5;124m\"\u001b[39m, pdb_file)\n\u001b[1;32m      8\u001b[0m model \u001b[38;5;241m=\u001b[39m MMCIFParser(QUIET\u001b[38;5;241m=\u001b[39m\u001b[38;5;28;01mTrue\u001b[39;00m)\u001b[38;5;241m.\u001b[39mget_structure(\u001b[38;5;124m\"\u001b[39m\u001b[38;5;124mmodel\u001b[39m\u001b[38;5;124m\"\u001b[39m, cif_file)\n\u001b[1;32m     10\u001b[0m native_seq \u001b[38;5;241m=\u001b[39m get_sequence(native)\n",
      "File \u001b[0;32m~/anaconda3/envs/alphafold_edie/lib/python3.12/site-packages/Bio/PDB/PDBParser.py:96\u001b[0m, in \u001b[0;36mPDBParser.get_structure\u001b[0;34m(self, id, file)\u001b[0m\n\u001b[1;32m     93\u001b[0m \u001b[38;5;66;03m# Make a StructureBuilder instance (pass id of structure as parameter)\u001b[39;00m\n\u001b[1;32m     94\u001b[0m \u001b[38;5;28mself\u001b[39m\u001b[38;5;241m.\u001b[39mstructure_builder\u001b[38;5;241m.\u001b[39minit_structure(\u001b[38;5;28mid\u001b[39m)\n\u001b[0;32m---> 96\u001b[0m \u001b[38;5;28;01mwith\u001b[39;00m as_handle(file) \u001b[38;5;28;01mas\u001b[39;00m handle:\n\u001b[1;32m     97\u001b[0m     lines \u001b[38;5;241m=\u001b[39m handle\u001b[38;5;241m.\u001b[39mreadlines()\n\u001b[1;32m     98\u001b[0m     \u001b[38;5;28;01mif\u001b[39;00m \u001b[38;5;129;01mnot\u001b[39;00m lines:\n",
      "File \u001b[0;32m~/anaconda3/envs/alphafold_edie/lib/python3.12/contextlib.py:137\u001b[0m, in \u001b[0;36m_GeneratorContextManager.__enter__\u001b[0;34m(self)\u001b[0m\n\u001b[1;32m    135\u001b[0m \u001b[38;5;28;01mdel\u001b[39;00m \u001b[38;5;28mself\u001b[39m\u001b[38;5;241m.\u001b[39margs, \u001b[38;5;28mself\u001b[39m\u001b[38;5;241m.\u001b[39mkwds, \u001b[38;5;28mself\u001b[39m\u001b[38;5;241m.\u001b[39mfunc\n\u001b[1;32m    136\u001b[0m \u001b[38;5;28;01mtry\u001b[39;00m:\n\u001b[0;32m--> 137\u001b[0m     \u001b[38;5;28;01mreturn\u001b[39;00m \u001b[38;5;28mnext\u001b[39m(\u001b[38;5;28mself\u001b[39m\u001b[38;5;241m.\u001b[39mgen)\n\u001b[1;32m    138\u001b[0m \u001b[38;5;28;01mexcept\u001b[39;00m \u001b[38;5;167;01mStopIteration\u001b[39;00m:\n\u001b[1;32m    139\u001b[0m     \u001b[38;5;28;01mraise\u001b[39;00m \u001b[38;5;167;01mRuntimeError\u001b[39;00m(\u001b[38;5;124m\"\u001b[39m\u001b[38;5;124mgenerator didn\u001b[39m\u001b[38;5;124m'\u001b[39m\u001b[38;5;124mt yield\u001b[39m\u001b[38;5;124m\"\u001b[39m) \u001b[38;5;28;01mfrom\u001b[39;00m \u001b[38;5;28;01mNone\u001b[39;00m\n",
      "File \u001b[0;32m~/anaconda3/envs/alphafold_edie/lib/python3.12/site-packages/Bio/File.py:72\u001b[0m, in \u001b[0;36mas_handle\u001b[0;34m(handleish, mode, **kwargs)\u001b[0m\n\u001b[1;32m     30\u001b[0m \u001b[38;5;250m\u001b[39m\u001b[38;5;124mr\u001b[39m\u001b[38;5;124;03m\"\"\"Context manager to ensure we are using a handle.\u001b[39;00m\n\u001b[1;32m     31\u001b[0m \n\u001b[1;32m     32\u001b[0m \u001b[38;5;124;03mContext manager for arguments that can be passed to SeqIO and AlignIO read, write,\u001b[39;00m\n\u001b[0;32m   (...)\u001b[0m\n\u001b[1;32m     69\u001b[0m \n\u001b[1;32m     70\u001b[0m \u001b[38;5;124;03m\"\"\"\u001b[39;00m\n\u001b[1;32m     71\u001b[0m \u001b[38;5;28;01mtry\u001b[39;00m:\n\u001b[0;32m---> 72\u001b[0m     \u001b[38;5;28;01mwith\u001b[39;00m \u001b[38;5;28mopen\u001b[39m(handleish, mode, \u001b[38;5;241m*\u001b[39m\u001b[38;5;241m*\u001b[39mkwargs) \u001b[38;5;28;01mas\u001b[39;00m fp:\n\u001b[1;32m     73\u001b[0m         \u001b[38;5;28;01myield\u001b[39;00m fp\n\u001b[1;32m     74\u001b[0m \u001b[38;5;28;01mexcept\u001b[39;00m \u001b[38;5;167;01mTypeError\u001b[39;00m:\n",
      "\u001b[0;31mFileNotFoundError\u001b[0m: [Errno 2] No such file or directory: 'af3_predictions/fold_t1124_new/7ux8.pdb'"
     ]
    }
   ],
   "source": [
    "cif_file = \"af3_predictions/fold_t1124_new/fold_t1124_new_model_0.cif\"\n",
    "pdb_file = \"af3_predictions/fold_t1124_new/7ux8.pdb\"\n",
    "superimpose_and_plot(cif_file, pdb_file)"
   ]
  },
  {
   "cell_type": "code",
   "execution_count": null,
   "id": "20b0cf8b-7c4c-412b-b406-d714b1749042",
   "metadata": {},
   "outputs": [],
   "source": []
  }
 ],
 "metadata": {
  "kernelspec": {
   "display_name": "Python 3 (ipykernel)",
   "language": "python",
   "name": "python3"
  },
  "language_info": {
   "codemirror_mode": {
    "name": "ipython",
    "version": 3
   },
   "file_extension": ".py",
   "mimetype": "text/x-python",
   "name": "python",
   "nbconvert_exporter": "python",
   "pygments_lexer": "ipython3",
   "version": "3.12.4"
  }
 },
 "nbformat": 4,
 "nbformat_minor": 5
}
