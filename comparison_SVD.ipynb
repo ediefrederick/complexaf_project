{
 "cells": [
  {
   "cell_type": "code",
   "execution_count": 2,
   "id": "215ae076-2615-410b-8fd6-4195323a360c",
   "metadata": {},
   "outputs": [
    {
     "name": "stdout",
     "output_type": "stream",
     "text": [
      "Intel MKL WARNING: Support of Intel(R) Streaming SIMD Extensions 4.2 (Intel(R) SSE4.2) enabled only processors has been deprecated. Intel oneAPI Math Kernel Library 2025.0 will require Intel(R) Advanced Vector Extensions (Intel(R) AVX) instructions.\n",
      "Intel MKL WARNING: Support of Intel(R) Streaming SIMD Extensions 4.2 (Intel(R) SSE4.2) enabled only processors has been deprecated. Intel oneAPI Math Kernel Library 2025.0 will require Intel(R) Advanced Vector Extensions (Intel(R) AVX) instructions.\n"
     ]
    }
   ],
   "source": [
    "import matplotlib.pyplot as plt\n",
    "from Bio.PDB import PDBParser, MMCIFParser\n",
    "from Bio.SVDSuperimposer import SVDSuperimposer\n",
    "from Bio.SeqUtils import seq1\n",
    "from Bio.Align import PairwiseAligner, substitution_matrices\n",
    "import numpy as np"
   ]
  },
  {
   "cell_type": "code",
   "execution_count": 9,
   "id": "49a28e9b-888d-4e45-876b-2c82b75a23d1",
   "metadata": {},
   "outputs": [],
   "source": [
    "def superimpose_and_plot(cif_file, pdb_file):\n",
    "    \n",
    "    def get_sequence(structure):\n",
    "        return \"\".join(seq1(residue.get_resname()) for model in structure for chain in model for residue in chain if residue.id[0] == ' ')\n",
    "    \n",
    "    # Extract sequence from each file\n",
    "    native = PDBParser(QUIET=True).get_structure(\"native\", pdb_file)\n",
    "    model = MMCIFParser(QUIET=True).get_structure(\"model\", cif_file)\n",
    "    \n",
    "    native_seq = get_sequence(native)\n",
    "    model_seq = get_sequence(model)\n",
    "\n",
    "    # Perform global alignment using Needleman-Wunsch with BLOSUM62\n",
    "    aligner = PairwiseAligner()\n",
    "    aligner.mode = 'global'\n",
    "    blosum62 = substitution_matrices.load(\"BLOSUM62\")\n",
    "    aligner.substitution_matrix = blosum62\n",
    "    alignments = aligner.align(native_seq, model_seq)\n",
    "\n",
    "    # Take the best alignment\n",
    "    alignment = alignments[0]\n",
    "\n",
    "     # Access aligned sequences\n",
    "    aligned_native = alignment.aligned[0]\n",
    "    aligned_model = alignment.aligned[1]\n",
    "    \n",
    "    # Trim sequences based on alignment\n",
    "    # Extract CA atoms for superimposition\n",
    "    native_atoms = []\n",
    "    model_atoms = []\n",
    "\n",
    "    native_residues = [residue for model in native for chain in model for residue in chain if residue.id[0] == ' ']\n",
    "    model_residues = [residue for model in model for chain in model for residue in chain if residue.id[0] == ' ']\n",
    "\n",
    "    native_index, model_index = 0, 0\n",
    "    for res_native, res_model in zip(aligned_native, aligned_model):\n",
    "        if res_native != '-' and res_model != '-':\n",
    "            native_atoms.append(native_residues[native_index]['CA'].get_coord())\n",
    "            model_atoms.append(model_residues[model_index]['CA'].get_coord())\n",
    "        if res_native != '-':\n",
    "            native_index += 1\n",
    "        if res_model != '-':\n",
    "            model_index += 1\n",
    "\n",
    "    # Convert lists to numpy arrays for SVD superimposition\n",
    "    native_atoms = np.array(native_atoms)\n",
    "    model_atoms = np.array(model_atoms)\n",
    "\n",
    "    # Superimpose two structures using SVD\n",
    "    super_imposer = SVDSuperimposer()\n",
    "    super_imposer.set(native_atoms, model_atoms)\n",
    "    super_imposer.run()\n",
    "\n",
    "    # Extract RMSD\n",
    "    rmsd = super_imposer.get_rms()\n",
    "    print(f\"RMSD: {rmsd:.3f} Å\")\n",
    "\n",
    "    return"
   ]
  },
  {
   "cell_type": "code",
   "execution_count": 10,
   "id": "cfc76e7f-2f30-49db-858c-be7c2dd15775",
   "metadata": {},
   "outputs": [
    {
     "name": "stdout",
     "output_type": "stream",
     "text": [
      "RMSD: 0.015 Å\n"
     ]
    }
   ],
   "source": [
    "pdb_file = 'af3_predictions/fold_t1124/7ux8.pdb'\n",
    "cif_file = 'af3_predictions/fold_t1124/fold_t1124_model_0.cif'\n",
    "superimpose_and_plot(cif_file, pdb_file)"
   ]
  },
  {
   "cell_type": "code",
   "execution_count": null,
   "id": "7e19673e-7866-4412-a7ce-24497daaf136",
   "metadata": {},
   "outputs": [],
   "source": []
  }
 ],
 "metadata": {
  "kernelspec": {
   "display_name": "Python 3 (ipykernel)",
   "language": "python",
   "name": "python3"
  },
  "language_info": {
   "codemirror_mode": {
    "name": "ipython",
    "version": 3
   },
   "file_extension": ".py",
   "mimetype": "text/x-python",
   "name": "python",
   "nbconvert_exporter": "python",
   "pygments_lexer": "ipython3",
   "version": "3.12.4"
  }
 },
 "nbformat": 4,
 "nbformat_minor": 5
}
